{
 "cells": [
  {
   "cell_type": "code",
   "execution_count": 1,
   "id": "2ecc753e-3f7b-4ce7-a3e7-845399c17d20",
   "metadata": {},
   "outputs": [],
   "source": [
    "# Importing the WebDriver module from the Selenium library to interact with web browsers (like Chrome, Firefox, etc.)\n",
    "\n",
    "from selenium import webdriver"
   ]
  },
  {
   "cell_type": "code",
   "execution_count": 2,
   "id": "df49de5b-551c-447b-9d6a-939e35b195d0",
   "metadata": {},
   "outputs": [],
   "source": [
    "# Importing the Service class to manage the ChromeDriver executable as a separate process\n",
    "\n",
    "from selenium.webdriver.chrome.service import Service"
   ]
  },
  {
   "cell_type": "code",
   "execution_count": 3,
   "id": "290a3766-914b-438b-a0cb-03f18d0607f3",
   "metadata": {},
   "outputs": [],
   "source": [
    "# Importing ChromeDriverManager to automatically manage and download the correct version of ChromeDriver\n",
    "\n",
    "from webdriver_manager.chrome import ChromeDriverManager"
   ]
  },
  {
   "cell_type": "code",
   "execution_count": 4,
   "id": "c19f0d13-9177-44af-8cc8-75d6d6d013bc",
   "metadata": {},
   "outputs": [],
   "source": [
    "# Importing the By class to locate elements on the webpage by various strategies (ID, XPATH, NAME, etc.)\n",
    "\n",
    "from selenium.webdriver.common.by import By"
   ]
  },
  {
   "cell_type": "code",
   "execution_count": 5,
   "id": "d107a6ff-707b-409c-a4df-726ff3f6cbe9",
   "metadata": {},
   "outputs": [],
   "source": [
    "# Importing the Keys class to send keyboard keys (like ENTER, ESC, etc.) to web elements\n",
    "\n",
    "from selenium.webdriver.common.keys import Keys"
   ]
  },
  {
   "cell_type": "code",
   "execution_count": 6,
   "id": "ad36819a-2b09-4caf-b08a-fd424ec7ace1",
   "metadata": {},
   "outputs": [],
   "source": [
    "# Importing the time module to add delays (sleep) in the script for better control over execution timing\n",
    "\n",
    "import time"
   ]
  },
  {
   "cell_type": "code",
   "execution_count": 7,
   "id": "f1a331ef-0687-4805-b301-fd4cd21ad4ed",
   "metadata": {},
   "outputs": [],
   "source": [
    "# Setting up the ChromeDriver service by automatically downloading the appropriate ChromeDriver version\n",
    "# using ChromeDriverManager, which manages ChromeDriver binaries for Selenium.\n",
    "\n",
    "service = Service(ChromeDriverManager().install())"
   ]
  },
  {
   "cell_type": "code",
   "execution_count": 8,
   "id": "e35cdfc8-b983-457f-8d8b-f3476c914ca1",
   "metadata": {},
   "outputs": [],
   "source": [
    "# Creating a new instance of the Chrome WebDriver, using the service object that was previously set up.\n",
    "# This allows Selenium to launch and control the Chrome browser.\n",
    "\n",
    "driver = webdriver.Chrome(service=service)"
   ]
  },
  {
   "cell_type": "code",
   "execution_count": 9,
   "id": "336ac893-d5f4-4dcb-a6d9-6de2a569356d",
   "metadata": {},
   "outputs": [],
   "source": [
    "# Navigating the Chrome browser instance to the specified URL (in this case, Google's homepage).\n",
    "# This will load the webpage so that further actions can be performed on it.\n",
    "\n",
    "driver.get('https://www.google.com/')"
   ]
  },
  {
   "cell_type": "code",
   "execution_count": 10,
   "id": "46ffafb7-96b1-4900-8537-cf0c8922600c",
   "metadata": {},
   "outputs": [],
   "source": [
    "# Pausing the execution of the script for 2 seconds.\n",
    "# This delay allows the webpage to fully load before the script continues to the next actions,\n",
    "# ensuring that all elements are accessible and interactable.\n",
    "\n",
    "time.sleep(2)"
   ]
  },
  {
   "cell_type": "code",
   "execution_count": 11,
   "id": "1ed9de4a-5dc6-445e-a85c-9f6bde4131ce",
   "metadata": {},
   "outputs": [],
   "source": [
    "# Locating an HTML element on the webpage using its XPath.\n",
    "# The XPath '//*[@id=\"APjFqb\"]' uniquely identifies the search box on the Google homepage.\n",
    "# This element is stored in the variable 'box' for later interactions, such as sending input text.\n",
    "\n",
    "box = driver.find_element(By.XPATH, '//*[@id=\"APjFqb\"]')"
   ]
  },
  {
   "cell_type": "code",
   "execution_count": 12,
   "id": "32fd932b-ab96-4125-83da-4a5e29d5e481",
   "metadata": {},
   "outputs": [],
   "source": [
    "# Sending the string 'House of Dragon' to the search box element stored in the variable 'box'.\n",
    "# This simulates typing the search term into the Google search input field.\n",
    "\n",
    "box.send_keys('House of Dragon')"
   ]
  },
  {
   "cell_type": "code",
   "execution_count": 13,
   "id": "7ea1211c-a79f-4248-9d6c-a092af9a1fde",
   "metadata": {},
   "outputs": [],
   "source": [
    "# Simulating pressing the 'Enter' key to submit the search query entered in the search box.\n",
    "# This triggers the Google search for 'House of Dragon'.\n",
    "\n",
    "box.send_keys(Keys.ENTER)"
   ]
  },
  {
   "cell_type": "code",
   "execution_count": 14,
   "id": "cba9c36d-f659-4de8-9eaa-aeca58495345",
   "metadata": {},
   "outputs": [],
   "source": [
    "# Pausing the execution of the script for 3 seconds to allow time for the search results page to load completely.\n",
    "# This helps ensure that the subsequent actions can interact with fully rendered elements.\n",
    "\n",
    "time.sleep(3)"
   ]
  },
  {
   "cell_type": "code",
   "execution_count": 15,
   "id": "d1bf23b5-42c9-41cd-b970-3dfad180ff97",
   "metadata": {},
   "outputs": [],
   "source": [
    "# Locating the element on the Google search results page using its XPath and performing a click action on it.\n",
    "# This specific element is a link related to the \"House of Dragon\" search results, directing the browser to the relevant webpage.\n",
    "\n",
    "driver.find_element(By.XPATH, '//*[@id=\"kp-wp-tab-overview\"]/div[6]/div/div/div/div/div/div[1]/div/div/span/a').click()"
   ]
  },
  {
   "cell_type": "code",
   "execution_count": 16,
   "id": "25d0405e-7765-49a8-85df-d1894063392e",
   "metadata": {},
   "outputs": [],
   "source": [
    "# Pausing the execution of the script for 2 seconds to allow the webpage to fully load before proceeding.\n",
    "# This ensures that subsequent actions, such as locating and interacting with elements, do not fail due to incomplete page loading.\n",
    "\n",
    "time.sleep(2)"
   ]
  },
  {
   "cell_type": "code",
   "execution_count": 17,
   "id": "762ddb53-93b4-4cb3-b3e8-a16931f91830",
   "metadata": {},
   "outputs": [
    {
     "data": {
      "text/plain": [
       "True"
      ]
     },
     "execution_count": 17,
     "metadata": {},
     "output_type": "execute_result"
    }
   ],
   "source": [
    "# Capturing a screenshot of the current state of the webpage and saving it to the specified path on the desktop.\n",
    "# This helps in visually verifying the result of the automated actions taken by the script.\n",
    "\n",
    "driver.save_screenshot('C:/Users/ARYA/Desktop/House_Of_Dragons.png')"
   ]
  }
 ],
 "metadata": {
  "kernelspec": {
   "display_name": "Python 3 (ipykernel)",
   "language": "python",
   "name": "python3"
  },
  "language_info": {
   "codemirror_mode": {
    "name": "ipython",
    "version": 3
   },
   "file_extension": ".py",
   "mimetype": "text/x-python",
   "name": "python",
   "nbconvert_exporter": "python",
   "pygments_lexer": "ipython3",
   "version": "3.11.7"
  }
 },
 "nbformat": 4,
 "nbformat_minor": 5
}
